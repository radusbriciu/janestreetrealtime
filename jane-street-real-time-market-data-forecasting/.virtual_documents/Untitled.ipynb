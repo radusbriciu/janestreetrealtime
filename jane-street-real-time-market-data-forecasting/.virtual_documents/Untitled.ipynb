


from sklearn.neural_network import MLPRegressor
from pathlib import Path
import os
import pandas as pd

features = pd.read_csv('features.csv').T.reset_index(drop=True).iloc[1:].T
target = pd.read_csv('responders.csv').T.reset_index(drop=True).iloc[1:]

model = MLPRegressor()

features


target


model.fit(features,target)



